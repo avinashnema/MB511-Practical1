{
 "cells": [
  {
   "cell_type": "code",
   "execution_count": 1,
   "id": "dd5c8bba",
   "metadata": {},
   "outputs": [
    {
     "name": "stdout",
     "output_type": "stream",
     "text": [
      "First Cell\n"
     ]
    }
   ],
   "source": [
    "print('First Cell')"
   ]
  },
  {
   "cell_type": "code",
   "execution_count": 2,
   "id": "098c0b3b",
   "metadata": {},
   "outputs": [
    {
     "name": "stdout",
     "output_type": "stream",
     "text": [
      "Second Cell\n"
     ]
    }
   ],
   "source": [
    "print('Second Cell')"
   ]
  },
  {
   "cell_type": "code",
   "execution_count": 3,
   "id": "4066e1fc",
   "metadata": {},
   "outputs": [
    {
     "name": "stdout",
     "output_type": "stream",
     "text": [
      "Third Cell\n"
     ]
    }
   ],
   "source": [
    "print('Third Cell')"
   ]
  },
  {
   "cell_type": "code",
   "execution_count": 4,
   "id": "30d1b10b",
   "metadata": {},
   "outputs": [
    {
     "name": "stdout",
     "output_type": "stream",
     "text": [
      "Fourth Cell\n"
     ]
    }
   ],
   "source": [
    "print('Fourth Cell')"
   ]
  }
 ],
 "metadata": {
  "kernelspec": {
   "display_name": "Python 3 (ipykernel)",
   "language": "python",
   "name": "python3"
  },
  "language_info": {
   "codemirror_mode": {
    "name": "ipython",
    "version": 3
   },
   "file_extension": ".py",
   "mimetype": "text/x-python",
   "name": "python",
   "nbconvert_exporter": "python",
   "pygments_lexer": "ipython3",
   "version": "3.11.5"
  }
 },
 "nbformat": 4,
 "nbformat_minor": 5
}
